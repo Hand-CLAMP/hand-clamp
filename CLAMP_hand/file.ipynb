{
 "cells": [
  {
   "cell_type": "markdown",
   "id": "ba3e94b8-a10e-4d28-92fe-d101606095b3",
   "metadata": {},
   "source": [
    "### Data Collection"
   ]
  },
  {
   "cell_type": "code",
   "execution_count": 13,
   "id": "9617f116-2011-4175-a9b3-e0b7a64425d1",
   "metadata": {
    "tags": []
   },
   "outputs": [],
   "source": [
    "import json\n",
    "\n",
    "# JSON 파일 경로\n",
    "json_file_path = 'data/hands/annotations/assemblyhands_val_ego_data_v1-1.json'\n",
    "\n",
    "# JSON 파일 열기\n",
    "with open(json_file_path, 'r') as json_file:\n",
    "    data = json.load(json_file)\n",
    "\n",
    "target_seq_names = [\n",
    "    \"nusar-2021_action_both_9012-c07c_9012_user_id_2021-02-01_164345/HMC_84346135_mono10bit\",\n",
    "    \"nusar-2021_action_both_9012-c07c_9012_user_id_2021-02-01_164345/HMC_84355350_mono10bit\"\n",
    "]\n",
    "\n",
    "max_images_total = 500\n",
    "\n",
    "sampled_data = {\n",
    "    \"info\": data[\"info\"],\n",
    "    \"images\": [],\n",
    "    \"annotations\": [],\n",
    "    \"categories\": data.get(\"categories\", [])\n",
    "}\n",
    "\n",
    "# Count for each file_name\n",
    "file_name_counts = {file_name: 0 for file_name in target_seq_names}\n",
    "\n",
    "# Extract and limit to 1000 images with file_names containing target_seq_names\n",
    "for image in data[\"images\"]:\n",
    "    file_name = image[\"file_name\"]\n",
    "    for seq_name in target_seq_names:\n",
    "        if seq_name in file_name and file_name_counts[seq_name] < max_images_total // len(target_seq_names):\n",
    "            sampled_data[\"images\"].append(image)\n",
    "            file_name_counts[seq_name] += 1\n",
    "\n",
    "            # Break the inner loop once an image is added for a specific target_seq_name\n",
    "            break\n",
    "\n",
    "    # Check if the total number of sampled images reaches the limit\n",
    "    if sum(file_name_counts.values()) >= max_images_total:\n",
    "        break\n",
    "\n",
    "# Extract IDs from the sampled images section\n",
    "sampled_image_ids = [image[\"id\"] for image in sampled_data[\"images\"]]\n",
    "\n",
    "# Filter annotations based on matching image IDs\n",
    "for annotation in data[\"annotations\"]:\n",
    "    if annotation[\"image_id\"] in sampled_image_ids:\n",
    "        sampled_data[\"annotations\"].append(annotation)\n",
    "\n",
    "# JSON 파일에 변경된 데이터 쓰기\n",
    "output_json_file_path_combined = 'data/hands/annotations/assemblyhands_val_ego_data_v1-1_sample.json'\n",
    "with open(output_json_file_path_combined, 'w') as output_json_file_combined:\n",
    "    json.dump(sampled_data, output_json_file_combined, indent=4)"
   ]
  },
  {
   "cell_type": "code",
   "execution_count": 3,
   "id": "99d4ef0f-0503-453a-959d-b7ce338cef5e",
   "metadata": {
    "tags": []
   },
   "outputs": [],
   "source": [
    "import json\n",
    "\n",
    "# JSON 파일 경로\n",
    "json_file_path = 'data/hands/annotations/assemblyhands_train_ego_data_v1-1_twohands.json'\n",
    "\n",
    "# JSON 파일 열기\n",
    "with open(json_file_path, 'r') as json_file:\n",
    "    data = json.load(json_file)\n",
    "    \n",
    "for annotation in data[\"annotations\"]:\n",
    "    annotation[\"bbox\"] = annotation[\"bbox\"][\"left\"]\n",
    "    annotation[\"keypoints\"] = annotation[\"keypoints\"][63:]\n",
    "    annotation[\"joint_valid\"] = annotation[\"joint_valid\"][21:]\n",
    "\n",
    "for category in data[\"categories\"]:\n",
    "    category[\"keypoints\"] = category[\"keypoints\"][:21]\n",
    "    category[\"skeleton\"] = category[\"skeleton\"][:20]\n",
    "    \n",
    "# JSON 파일에 변경된 데이터 쓰기\n",
    "output_json_file_path = 'data/hands/annotations/assemblyhands_train_ego_data_v1-1_onehand.json'\n",
    "with open(output_json_file_path, 'w') as output_json_file_combined:\n",
    "    json.dump(data, output_json_file_combined, indent=4)"
   ]
  },
  {
   "cell_type": "code",
   "execution_count": 4,
   "id": "10b98bab-ea37-4fb1-8b28-b5c1438d41a5",
   "metadata": {
    "tags": []
   },
   "outputs": [],
   "source": [
    "import json\n",
    "\n",
    "# JSON 파일 경로\n",
    "json_file_path = 'data/hands/annotations/assemblyhands_train_ego_data_v1-1_onehand.json'\n",
    "\n",
    "# JSON 파일 열기\n",
    "with open(json_file_path, 'r') as json_file:\n",
    "    data = json.load(json_file)\n",
    "    \n",
    "for category in data[\"categories\"]:\n",
    "    category['keypoints'] = [kp.replace('right_', '') for kp in category['keypoints']]\n",
    "    \n",
    "# JSON 파일에 변경된 데이터 쓰기\n",
    "output_json_file_path = 'data/hands/annotations/assemblyhands_train_ego_data_v1-1_onehand.json'\n",
    "with open(output_json_file_path, 'w') as output_json_file_combined:\n",
    "    json.dump(data, output_json_file_combined, indent=4)"
   ]
  },
  {
   "cell_type": "markdown",
   "id": "e9239341-dcb3-441a-99ce-d2c6a30230f5",
   "metadata": {},
   "source": [
    "### Image Countable"
   ]
  },
  {
   "cell_type": "code",
   "execution_count": 11,
   "id": "312b40a4-1732-429c-80e5-ddd99c894564",
   "metadata": {},
   "outputs": [
    {
     "name": "stdout",
     "output_type": "stream",
     "text": [
      "The total number of images in data/hands/ego_images_rectified/val/nusar-2021_action_both_9012-c07c_9012_user_id_2021-02-01_164345/HMC_84355350_mono10bit is: 250\n"
     ]
    }
   ],
   "source": [
    "import os\n",
    "\n",
    "def count_images(directory):\n",
    "    image_extensions = ['.jpg', '.jpeg', '.png', '.gif', '.bmp']\n",
    "    image_count = 0\n",
    "\n",
    "    for root, dirs, files in os.walk(directory):\n",
    "        for file in files:\n",
    "            _, ext = os.path.splitext(file)\n",
    "            if ext.lower() in image_extensions:\n",
    "                image_count += 1\n",
    "\n",
    "    return image_count\n",
    "\n",
    "directory_path = 'data/hands/ego_images_rectified/val/nusar-2021_action_both_9012-c07c_9012_user_id_2021-02-01_164345/HMC_84355350_mono10bit'\n",
    "\n",
    "total_images = count_images(directory_path)\n",
    "print(f'The total number of images in {directory_path} is: {total_images}')"
   ]
  }
 ],
 "metadata": {
  "environment": {
   "kernel": "conda-root-py",
   "name": "workbench-notebooks.m113",
   "type": "gcloud",
   "uri": "gcr.io/deeplearning-platform-release/workbench-notebooks:m113"
  },
  "kernelspec": {
   "display_name": "Python 3 (ipykernel) (Local)",
   "language": "python",
   "name": "conda-root-py"
  },
  "language_info": {
   "codemirror_mode": {
    "name": "ipython",
    "version": 3
   },
   "file_extension": ".py",
   "mimetype": "text/x-python",
   "name": "python",
   "nbconvert_exporter": "python",
   "pygments_lexer": "ipython3",
   "version": "3.10.13"
  }
 },
 "nbformat": 4,
 "nbformat_minor": 5
}
